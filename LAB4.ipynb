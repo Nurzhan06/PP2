{
 "cells": [
  {
   "cell_type": "markdown",
   "id": "2d48eca2-53a4-44bf-995f-ad8f7d0b376b",
   "metadata": {},
   "source": [
    "LAB 4 ABDIK NURZHAN"
   ]
  },
  {
   "cell_type": "markdown",
   "id": "3883f33e-37f0-4e7c-992e-0f0741e65c4c",
   "metadata": {},
   "source": [
    "MATH 1"
   ]
  },
  {
   "cell_type": "code",
   "execution_count": 3,
   "id": "9ecfa44c-d863-4f05-b66e-aaf326e67d54",
   "metadata": {},
   "outputs": [
    {
     "name": "stdin",
     "output_type": "stream",
     "text": [
      " 15\n"
     ]
    },
    {
     "name": "stdout",
     "output_type": "stream",
     "text": [
      "0.2617993877991494\n"
     ]
    }
   ],
   "source": [
    "import math\n",
    "\n",
    "deg = float(input())\n",
    "rad = deg * (math.pi / 180)\n",
    "print(rad)"
   ]
  },
  {
   "cell_type": "markdown",
   "id": "9387cc50-c97e-471e-89cd-5a3550ea97df",
   "metadata": {},
   "source": [
    "MATH 2"
   ]
  },
  {
   "cell_type": "code",
   "execution_count": 9,
   "id": "6700ab06-9e1e-472b-b314-a1c6c823d97b",
   "metadata": {},
   "outputs": [
    {
     "name": "stdin",
     "output_type": "stream",
     "text": [
      "enter the height 5\n",
      "enter the length of lower base 5\n",
      "enter the length of upper base 6\n"
     ]
    },
    {
     "name": "stdout",
     "output_type": "stream",
     "text": [
      "27.5\n"
     ]
    }
   ],
   "source": [
    "height = float(input(\"enter the height\"))\n",
    "base1 =  float(input(\"enter the length of lower base\"))\n",
    "base2 = float(input(\"enter the length of upper base\"))\n",
    "\n",
    "area = ((base1 + base2)/2) * height\n",
    "print(area)"
   ]
  },
  {
   "cell_type": "markdown",
   "id": "968b1419-9d79-4e14-b160-574e80fa35d3",
   "metadata": {},
   "source": [
    "MATH 3"
   ]
  },
  {
   "cell_type": "code",
   "execution_count": 7,
   "id": "4c79380b-3175-40bc-adf8-a4345dbf6fd6",
   "metadata": {},
   "outputs": [
    {
     "name": "stdin",
     "output_type": "stream",
     "text": [
      "enter the number of sides 4\n",
      "enter the length of a side 25\n"
     ]
    },
    {
     "name": "stdout",
     "output_type": "stream",
     "text": [
      "area of a square: 625.0\n"
     ]
    }
   ],
   "source": [
    "import math\n",
    "\n",
    "sides = input(\"enter the number of sides\")\n",
    "length = float(input(\"enter the length of a side\"))\n",
    "\n",
    "if sides == '3':\n",
    "    print(\"area of equilateral triangle:\",((math.sqrt(3)/4)) * pow(length, 2))\n",
    "elif sides == '4':\n",
    "    print(\"area of a square:\", pow(length, 2))\n",
    "else:\n",
    "    print(\"formula not found\")"
   ]
  },
  {
   "cell_type": "markdown",
   "id": "0f72f4ed-ba35-41a3-bd43-2a67d4c5da77",
   "metadata": {},
   "source": [
    "MATH 4"
   ]
  },
  {
   "cell_type": "code",
   "execution_count": 11,
   "id": "594581f2-206b-4b5f-9686-a87e28b284f9",
   "metadata": {},
   "outputs": [
    {
     "name": "stdin",
     "output_type": "stream",
     "text": [
      "enter the height of parallelogram 5\n",
      "inter the length of parallelogram 6\n"
     ]
    },
    {
     "name": "stdout",
     "output_type": "stream",
     "text": [
      "30.0\n"
     ]
    }
   ],
   "source": [
    "height = float(input(\"enter the height of parallelogram\"))\n",
    "length = float(input(\"inter the length of parallelogram\"))\n",
    "\n",
    "area = height * length\n",
    "print(area)"
   ]
  },
  {
   "cell_type": "markdown",
   "id": "c857eacc-034a-4176-adc9-2f21a0c7ff9f",
   "metadata": {},
   "source": [
    "GENERATORS 1"
   ]
  },
  {
   "cell_type": "code",
   "execution_count": 9,
   "id": "381efd0c-4cb3-4e18-a19d-6cde25bfd61e",
   "metadata": {},
   "outputs": [
    {
     "name": "stdin",
     "output_type": "stream",
     "text": [
      " 5\n"
     ]
    },
    {
     "name": "stdout",
     "output_type": "stream",
     "text": [
      "1\n",
      "4\n",
      "9\n",
      "16\n",
      "25\n"
     ]
    }
   ],
   "source": [
    "def squares():\n",
    "    n = 1\n",
    "    while n <= num:\n",
    "        res = n*n\n",
    "        yield res\n",
    "        n += 1\n",
    "\n",
    "values = squares()\n",
    "num = int(input())\n",
    "\n",
    "for i in values:\n",
    "    print(i)"
   ]
  },
  {
   "cell_type": "markdown",
   "id": "72d47c77-73c3-4861-845b-dd6b42a74fb6",
   "metadata": {},
   "source": [
    "GENERATORS 2"
   ]
  },
  {
   "cell_type": "code",
   "execution_count": 21,
   "id": "0a77594e-1233-489d-8e08-c646e9d5eb99",
   "metadata": {},
   "outputs": [
    {
     "name": "stdin",
     "output_type": "stream",
     "text": [
      " 20\n"
     ]
    },
    {
     "name": "stdout",
     "output_type": "stream",
     "text": [
      "[2, 4, 6, 8, 10, 12, 14, 16, 18, 20]\n"
     ]
    }
   ],
   "source": [
    "def even():\n",
    "    n = 1\n",
    "    while n <= num/2:\n",
    "        res = 2*n\n",
    "        yield res\n",
    "        n += 1\n",
    "\n",
    "values = even()\n",
    "num = int(input())\n",
    "even_nums = []\n",
    "\n",
    "for i in values:\n",
    "    even_nums.append(i)\n",
    "\n",
    "print(even_nums)"
   ]
  },
  {
   "cell_type": "markdown",
   "id": "5dc30428-159f-47d0-a2d1-406f19a716cb",
   "metadata": {},
   "source": [
    "GENERATORS 3"
   ]
  },
  {
   "cell_type": "code",
   "execution_count": 35,
   "id": "8a37ff49-c1b5-479f-beec-edd3f19b7bd5",
   "metadata": {},
   "outputs": [
    {
     "name": "stdout",
     "output_type": "stream",
     "text": [
      "0\n",
      "12\n",
      "24\n",
      "36\n",
      "48\n"
     ]
    }
   ],
   "source": [
    "def div_by_3n4(n):\n",
    "   for num in range(n+1):\n",
    "       if num % 3  == 0 and num % 4 == 0:\n",
    "           yield num\n",
    "           \n",
    "n = 50\n",
    "for number in div_by_3n4(n):\n",
    "    print(number)"
   ]
  },
  {
   "cell_type": "markdown",
   "id": "758656c6-d342-4590-ae8b-17e09229df8b",
   "metadata": {},
   "source": [
    "GENERATORS 4"
   ]
  },
  {
   "cell_type": "code",
   "execution_count": 41,
   "id": "d29d00b5-264f-493e-bc8a-0c2106149c76",
   "metadata": {},
   "outputs": [
    {
     "name": "stdin",
     "output_type": "stream",
     "text": [
      " 2\n",
      " 8\n"
     ]
    },
    {
     "name": "stdout",
     "output_type": "stream",
     "text": [
      "4\n",
      "9\n",
      "16\n",
      "25\n",
      "36\n",
      "49\n",
      "64\n"
     ]
    }
   ],
   "source": [
    "def squares_a_to_b():\n",
    "    a = int(input())\n",
    "    b = int(input())\n",
    "    while a <= b:\n",
    "        res = a*a\n",
    "        yield res\n",
    "        a += 1\n",
    "\n",
    "values = squares_a_to_b()\n",
    "\n",
    "for i in values:\n",
    "    print(i)"
   ]
  },
  {
   "cell_type": "markdown",
   "id": "fe824fea-5c21-4872-83ae-c4336c817c8a",
   "metadata": {},
   "source": [
    "GENERATORS 5"
   ]
  },
  {
   "cell_type": "code",
   "execution_count": 45,
   "id": "dadc89fa-437d-4046-afa6-a953060633dc",
   "metadata": {},
   "outputs": [
    {
     "name": "stdin",
     "output_type": "stream",
     "text": [
      " 8\n"
     ]
    },
    {
     "name": "stdout",
     "output_type": "stream",
     "text": [
      "8\n",
      "7\n",
      "6\n",
      "5\n",
      "4\n",
      "3\n",
      "2\n",
      "1\n",
      "0\n"
     ]
    }
   ],
   "source": [
    "def nums_by_desc():\n",
    "    n = int(input())\n",
    "    while n >= 0:\n",
    "        yield n\n",
    "        n -= 1\n",
    "\n",
    "\n",
    "for nums in nums_by_desc():\n",
    "    print(nums)"
   ]
  },
  {
   "cell_type": "markdown",
   "id": "d6a91533-a082-40c1-a287-9ead0306bdeb",
   "metadata": {},
   "source": [
    "DATE 1"
   ]
  },
  {
   "cell_type": "code",
   "execution_count": 31,
   "id": "5a7f7be8-e2e2-46e6-be05-2c6814588507",
   "metadata": {},
   "outputs": [
    {
     "name": "stdin",
     "output_type": "stream",
     "text": [
      "Enter a date (YYYY MM DD):  2025 03 01\n"
     ]
    },
    {
     "name": "stdout",
     "output_type": "stream",
     "text": [
      "date five days before: 2025 02 24\n"
     ]
    }
   ],
   "source": [
    "from datetime import datetime, timedelta\n",
    "\n",
    "date_str = input(\"Enter a date (YYYY MM DD): \")\n",
    "today = datetime.strptime(date_str, \"%Y %m %d\")\n",
    "\n",
    "five_days_before = today - timedelta(days=5)\n",
    "\n",
    "\n",
    "print(\"date five days before:\", five_days_before.strftime(\"%Y %m %d\"))"
   ]
  },
  {
   "cell_type": "markdown",
   "id": "9786202d-c675-41e8-942a-3e1fbade84a4",
   "metadata": {},
   "source": [
    "DATE 2"
   ]
  },
  {
   "cell_type": "code",
   "execution_count": 41,
   "id": "b40614a1-9bc2-4888-9b8a-123ccc8a67c4",
   "metadata": {},
   "outputs": [
    {
     "name": "stdin",
     "output_type": "stream",
     "text": [
      "Enter a date (YYYY MM DD):  2025 02 28\n"
     ]
    },
    {
     "name": "stdout",
     "output_type": "stream",
     "text": [
      "yesterday: 2025 02 27\n",
      "today: 2025-02-28 00:00:00\n",
      "tomorrow: 2025 03 01\n"
     ]
    }
   ],
   "source": [
    "from datetime import datetime, timedelta\n",
    "\n",
    "date_str = input(\"Enter a date (YYYY MM DD): \")\n",
    "today = datetime.strptime(date_str, \"%Y %m %d\")\n",
    "\n",
    "yesterday = today - timedelta(days=1)\n",
    "tomorrow = today + timedelta(days=1)\n",
    "\n",
    "print(\"yesterday:\", yesterday.strftime(\"%Y %m %d\"))\n",
    "print(\"today:\", today)\n",
    "print(\"tomorrow:\", tomorrow.strftime(\"%Y %m %d\"))"
   ]
  },
  {
   "cell_type": "markdown",
   "id": "02c8b892-90ca-4dc0-9978-0251ecda3762",
   "metadata": {},
   "source": [
    "DATE 3"
   ]
  },
  {
   "cell_type": "code",
   "execution_count": 19,
   "id": "1183b5a7-73d5-4d52-a0ae-2748b0c86732",
   "metadata": {},
   "outputs": [
    {
     "name": "stdout",
     "output_type": "stream",
     "text": [
      "2025-02-15 20:29:58.054724\n",
      "2025-02-15 20:29:58\n"
     ]
    }
   ],
   "source": [
    "import datetime\n",
    "\n",
    "date = datetime.datetime.now()\n",
    "print(date)\n",
    "date_millisec_off= date.replace(microsecond = 0)\n",
    "print(date_millisec_off)"
   ]
  },
  {
   "cell_type": "markdown",
   "id": "81aa11df-2773-41cf-b54d-2321c12b7de9",
   "metadata": {},
   "source": [
    "DATE 4"
   ]
  },
  {
   "cell_type": "code",
   "execution_count": 55,
   "id": "4a4cc7ae-88f4-4ff6-8751-e19ecf7e314b",
   "metadata": {},
   "outputs": [
    {
     "name": "stdin",
     "output_type": "stream",
     "text": [
      "enter first date (YYYY MM DD): 2025 02 28\n",
      "enter second date (YYYY MM DD): 2025 03 01\n"
     ]
    },
    {
     "name": "stdout",
     "output_type": "stream",
     "text": [
      "two date difference in seconds: 86400\n"
     ]
    }
   ],
   "source": [
    "from datetime import datetime\n",
    "\n",
    "def differ_of_dates_seconds(date1_str, date2_str):\n",
    "    \n",
    "    date1 = datetime.strptime(date1_str, \"%Y %m %d\")\n",
    "    date2 = datetime.strptime(date2_str, \"%Y %m %d\")\n",
    "    \n",
    "    return abs(int((date1 - date2).total_seconds()))\n",
    "\n",
    "date1_str = input(\"enter first date (YYYY MM DD):\")\n",
    "date2_str = input(\"enter second date (YYYY MM DD):\")\n",
    "\n",
    "difference = differ_of_dates_seconds(date1_str, date2_str)\n",
    "print(\"two date difference in seconds:\", difference)"
   ]
  }
 ],
 "metadata": {
  "kernelspec": {
   "display_name": "Python [conda env:base] *",
   "language": "python",
   "name": "conda-base-py"
  },
  "language_info": {
   "codemirror_mode": {
    "name": "ipython",
    "version": 3
   },
   "file_extension": ".py",
   "mimetype": "text/x-python",
   "name": "python",
   "nbconvert_exporter": "python",
   "pygments_lexer": "ipython3",
   "version": "3.12.7"
  }
 },
 "nbformat": 4,
 "nbformat_minor": 5
}
