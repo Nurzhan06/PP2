{
 "cells": [
  {
   "cell_type": "markdown",
   "id": "807b5b53-8344-4f7a-aff1-4cde7cce5bbf",
   "metadata": {},
   "source": [
    "W3SCHOOLS PYTHON TUTORIALS\n",
    "PP2 lab 1\n",
    "Nurzhan Abdik  ID: 24B032170"
   ]
  },
  {
   "cell_type": "markdown",
   "id": "f8148fa4-4aea-4c30-927d-dac8be61ab0a",
   "metadata": {},
   "source": [
    "Example 1"
   ]
  },
  {
   "cell_type": "code",
   "execution_count": 1,
   "id": "4ef91519-3389-4778-b933-3cc64e662f23",
   "metadata": {},
   "outputs": [
    {
     "name": "stdout",
     "output_type": "stream",
     "text": [
      "lab number one\n"
     ]
    }
   ],
   "source": [
    "print(\"lab number one\")"
   ]
  },
  {
   "cell_type": "markdown",
   "id": "77bfc519-1d1c-4cf8-a16f-e02f1098e36c",
   "metadata": {},
   "source": [
    "Example 2"
   ]
  },
  {
   "cell_type": "code",
   "execution_count": 5,
   "id": "85842181-be95-427a-a004-07719ddb2882",
   "metadata": {},
   "outputs": [
    {
     "name": "stdout",
     "output_type": "stream",
     "text": [
      "ten is greater than seven\n"
     ]
    }
   ],
   "source": [
    "if 10 > 7:\n",
    "    print(\"ten is greater than seven\")"
   ]
  },
  {
   "cell_type": "markdown",
   "id": "a4161a8b-e7ad-4ab6-8042-b3189a7bf808",
   "metadata": {},
   "source": [
    "Example 3"
   ]
  },
  {
   "cell_type": "code",
   "execution_count": 7,
   "id": "4e847fb8-33d1-4666-8333-47de6fb48075",
   "metadata": {},
   "outputs": [
    {
     "name": "stdout",
     "output_type": "stream",
     "text": [
      "99\n",
      "salem world\n"
     ]
    }
   ],
   "source": [
    "x = 99\n",
    "X = \"salem world\"\n",
    "# x and X are not the same variable, because python is case sensitive\n",
    "print(x)\n",
    "print(X)"
   ]
  },
  {
   "cell_type": "raw",
   "id": "43b8e5f5-cd47-4af5-96af-479717ea88bd",
   "metadata": {},
   "source": [
    "Example 4"
   ]
  },
  {
   "cell_type": "code",
   "execution_count": 1,
   "id": "ab489aee-b48d-4da6-9154-8fede4c646fd",
   "metadata": {},
   "outputs": [
    {
     "name": "stdout",
     "output_type": "stream",
     "text": [
      "salem world\n"
     ]
    }
   ],
   "source": [
    "#comments can be written above the code\n",
    "print(\"salem world\") #as well as the near the code"
   ]
  },
  {
   "cell_type": "markdown",
   "id": "ad162555-001e-4a38-84b8-dcc1c0ebed9e",
   "metadata": {},
   "source": [
    "Example 5"
   ]
  },
  {
   "cell_type": "code",
   "execution_count": 3,
   "id": "f74dd7d8-9974-485f-9d23-5322277b4fb1",
   "metadata": {},
   "outputs": [
    {
     "name": "stdout",
     "output_type": "stream",
     "text": [
      "salem\n"
     ]
    }
   ],
   "source": [
    "x = 15      #variable x was an integer\n",
    "x = \"salem\" #now x is a string\n",
    "print(x)    #prints the last assigned value of x"
   ]
  },
  {
   "cell_type": "markdown",
   "id": "86e38fac-bdc0-4737-bac8-fd862f4fb682",
   "metadata": {},
   "source": [
    "Example 6"
   ]
  },
  {
   "cell_type": "code",
   "execution_count": 9,
   "id": "e4043c83-8ba0-4931-8551-0bc310cb8d42",
   "metadata": {},
   "outputs": [
    {
     "name": "stdout",
     "output_type": "stream",
     "text": [
      "21 + 21\n",
      "21\n",
      "21.0\n",
      "42.0\n"
     ]
    }
   ],
   "source": [
    "a = str(21)   # 21 as string\n",
    "b = int(21)   # 21 as integer\n",
    "c = float(21) # 21 as float number\n",
    "\n",
    "print(a + \" + 21\")\n",
    "print(b)\n",
    "print(c)\n",
    "print(b + c) # int + float = float"
   ]
  },
  {
   "cell_type": "markdown",
   "id": "9c72d604-ae2c-4b17-a6b8-0d7d3e6909ee",
   "metadata": {},
   "source": [
    "Example 7"
   ]
  },
  {
   "cell_type": "code",
   "execution_count": 13,
   "id": "dfc6510c-fcf3-4bae-b8fb-4aeb0242583c",
   "metadata": {},
   "outputs": [
    {
     "name": "stdout",
     "output_type": "stream",
     "text": [
      "11\n",
      "27\n",
      "36\n",
      "40\n"
     ]
    }
   ],
   "source": [
    "ab = 11 #this four variables are different\n",
    "Ab = 27 #and each of them has different value\n",
    "aB = 36 #variable name can't start with a number\n",
    "AB = 40 #variable name can't contain space or dash\n",
    "print(ab)\n",
    "print(Ab)\n",
    "print(aB) \n",
    "print(AB)"
   ]
  },
  {
   "cell_type": "markdown",
   "id": "989b2d71-be86-4a16-9eee-0da50f081122",
   "metadata": {},
   "source": [
    "Example 8"
   ]
  },
  {
   "cell_type": "code",
   "execution_count": 15,
   "id": "3e7c4b73-1705-41c3-94f5-3a63e243fe07",
   "metadata": {},
   "outputs": [
    {
     "name": "stdout",
     "output_type": "stream",
     "text": [
      "15\n",
      "salem\n",
      "58\n"
     ]
    }
   ],
   "source": [
    "a, b, c = 15, \"salem\", 58 #python allows to assign values to multiple variables in one line\n",
    "print(a)\n",
    "print(b)\n",
    "print(c)"
   ]
  },
  {
   "cell_type": "markdown",
   "id": "d9c20fb9-ad90-43a9-a8cc-c92ba5056369",
   "metadata": {},
   "source": [
    "Exapmle 9"
   ]
  },
  {
   "cell_type": "code",
   "execution_count": 17,
   "id": "c87e8d29-cfb8-45d3-be2b-7fcb44783f62",
   "metadata": {},
   "outputs": [
    {
     "name": "stdout",
     "output_type": "stream",
     "text": [
      "iphone\n",
      "samsung\n",
      "xiaomi\n"
     ]
    }
   ],
   "source": [
    "phones = [\"iphone\", \"samsung\", \"xiaomi\"] #create a list\n",
    "a, b, c = phones                         #assing values from a list to variables, unpacked them\n",
    "print(a)\n",
    "print(b)\n",
    "print(c)"
   ]
  },
  {
   "cell_type": "markdown",
   "id": "ad091046-92c5-471e-892c-dc74752d1456",
   "metadata": {},
   "source": [
    "Example 10"
   ]
  },
  {
   "cell_type": "code",
   "execution_count": 19,
   "id": "49a6caf8-3804-422d-881e-d7a92ba777a1",
   "metadata": {},
   "outputs": [
    {
     "name": "stdout",
     "output_type": "stream",
     "text": [
      "naps are awesome\n"
     ]
    }
   ],
   "source": [
    "a = \"naps are awesome\"\n",
    "print(a)"
   ]
  },
  {
   "cell_type": "markdown",
   "id": "23d3cf9b-451a-4f47-93ff-02aa4f1d854e",
   "metadata": {},
   "source": [
    "Example 11"
   ]
  },
  {
   "cell_type": "code",
   "execution_count": 29,
   "id": "36974108-7a37-4074-990a-09d91b8ee668",
   "metadata": {},
   "outputs": [
    {
     "name": "stdout",
     "output_type": "stream",
     "text": [
      "Naps Are Awesome\n",
      "NapsAreAwesome\n"
     ]
    }
   ],
   "source": [
    "a = \"Naps\"\n",
    "b = \"Are\"\n",
    "c = \"Awesome\"\n",
    "print(a,b,c) #prints string with space\n",
    "print(a+b+c) #prints string without space"
   ]
  },
  {
   "cell_type": "markdown",
   "id": "8fe54016-b77e-4233-9c71-0a3abbc670d3",
   "metadata": {},
   "source": [
    "Example 12"
   ]
  },
  {
   "cell_type": "code",
   "execution_count": 31,
   "id": "758aef83-d24d-45ce-b7b0-93ddc83cb94f",
   "metadata": {},
   "outputs": [
    {
     "name": "stdout",
     "output_type": "stream",
     "text": [
      "12 28\n",
      "40\n"
     ]
    }
   ],
   "source": [
    "a = 12\n",
    "b = 28\n",
    "print(a,b) #prints two integers with space\n",
    "print(a+b) #prints the sum of two integers"
   ]
  },
  {
   "cell_type": "markdown",
   "id": "e37227f6-4ee9-4e83-b987-690ae802ef6d",
   "metadata": {},
   "source": [
    "Exapmle 13"
   ]
  },
  {
   "cell_type": "code",
   "execution_count": 33,
   "id": "137ee06a-418c-4abe-ad89-e84cfa46847f",
   "metadata": {},
   "outputs": [
    {
     "name": "stdout",
     "output_type": "stream",
     "text": [
      "12 salem\n"
     ]
    }
   ],
   "source": [
    "a = 12\n",
    "b = \"salem\"\n",
    "print(a, b)\n",
    "#print(a+b)  can't be runned since a is a integer and b is a string"
   ]
  },
  {
   "cell_type": "markdown",
   "id": "5e9e2bf2-d2fe-4b19-b9ce-dcb55d4d3f5a",
   "metadata": {},
   "source": [
    "Example 14"
   ]
  },
  {
   "cell_type": "code",
   "execution_count": 1,
   "id": "f60f51ce-c30c-4629-90a5-88da3ae11370",
   "metadata": {},
   "outputs": [
    {
     "name": "stdout",
     "output_type": "stream",
     "text": [
      "naps are fantastic\n",
      "naps are awesome\n"
     ]
    }
   ],
   "source": [
    "a = \"awesome\"               #global variable\n",
    "\n",
    "def func():\n",
    "    a = \"fantastic\"        #local variable inside of function\n",
    "    print(\"naps are \" + a) #print string with local variable\n",
    "\n",
    "func()\n",
    "\n",
    "print(\"naps are \" + a)    #print string with global variable"
   ]
  },
  {
   "cell_type": "markdown",
   "id": "51787454-5406-421e-862e-01e86926994f",
   "metadata": {},
   "source": [
    "Example 15"
   ]
  },
  {
   "cell_type": "code",
   "execution_count": 9,
   "id": "f9b9dfda-6ac8-420e-aa5e-8a6a25b30a42",
   "metadata": {},
   "outputs": [
    {
     "name": "stdout",
     "output_type": "stream",
     "text": [
      "naps are awesome\n",
      "naps are fantastic\n",
      "but insomnia isn't fantastic\n"
     ]
    }
   ],
   "source": [
    "a = \"awesome\"                    #first global variable\n",
    "print(\"naps are \" + a)     \n",
    "\n",
    "def func():\n",
    "    global a                     #make local variable new global variable\n",
    "    a =\"fantastic\"               #second global variable\n",
    "    print(\"naps are \" + a)\n",
    "\n",
    "func()\n",
    "\n",
    "print(\"but insomnia isn't \" + a) #use new global variable outside of a function"
   ]
  },
  {
   "cell_type": "markdown",
   "id": "fd829496-c4c2-4d20-9da4-6260368871b3",
   "metadata": {},
   "source": [
    "Example 16"
   ]
  },
  {
   "cell_type": "code",
   "execution_count": 17,
   "id": "dbc3bc2b-fdb2-40de-93be-888d2f4c08b4",
   "metadata": {},
   "outputs": [
    {
     "name": "stdout",
     "output_type": "stream",
     "text": [
      "<class 'int'>\n",
      "<class 'float'>\n",
      "<class 'complex'>\n",
      "<class 'str'>\n",
      "<class 'bool'>\n",
      "<class 'list'>\n",
      "<class 'tuple'>\n"
     ]
    }
   ],
   "source": [
    "a = 15\n",
    "b = 15.5\n",
    "c = 15j\n",
    "d = \"salem\"\n",
    "e = True\n",
    "f = [\"iphone\", \"samsung\", \"xiaomi\"]\n",
    "g = (\"iphone\", \"samsung\", \"xiaomi\")\n",
    "\n",
    "print(type(a))\n",
    "print(type(b))\n",
    "print(type(c))\n",
    "print(type(d))\n",
    "print(type(e))\n",
    "print(type(f))\n",
    "print(type(g))"
   ]
  },
  {
   "cell_type": "markdown",
   "id": "280b01ea-87a8-4a32-93d3-afb2ef68643c",
   "metadata": {},
   "source": [
    "Example 17"
   ]
  },
  {
   "cell_type": "code",
   "execution_count": 21,
   "id": "2ad61bd4-ea91-4a96-91aa-9be18204d1fa",
   "metadata": {},
   "outputs": [
    {
     "name": "stdout",
     "output_type": "stream",
     "text": [
      "12.5\n",
      "<class 'float'>\n",
      "(15+3j)\n",
      "<class 'complex'>\n",
      "(-2.5+3j)\n",
      "<class 'complex'>\n"
     ]
    }
   ],
   "source": [
    "a = 15\n",
    "b = -2.5\n",
    "c = 3j\n",
    "\n",
    "print(a + b)\n",
    "print(type(a + b)) #int + float = float\n",
    "\n",
    "print(a + c)\n",
    "print(type(a + c)) #int + complex = complex\n",
    "\n",
    "print(b + c)\n",
    "print(type(b + c)) #float + complex = complex"
   ]
  },
  {
   "cell_type": "markdown",
   "id": "e7ab8c53-8893-4a9c-b5f8-acccf8f3a055",
   "metadata": {},
   "source": [
    "Example 18"
   ]
  },
  {
   "cell_type": "code",
   "execution_count": 39,
   "id": "d3efd700-7341-451d-af62-8a3af96d108a",
   "metadata": {},
   "outputs": [
    {
     "name": "stdout",
     "output_type": "stream",
     "text": [
      "24 12 -3 9\n",
      "24.0 12.5 -3.85 8.65\n",
      "24BD 12.5 -3.85 12.5-3.85\n"
     ]
    }
   ],
   "source": [
    "a = int(24)\n",
    "b = int(12.5)\n",
    "c = int(-3.85)\n",
    "print(a,b,c, b + c)\n",
    "\n",
    "d = float(24)\n",
    "e = float(12.5)\n",
    "f = float(-3.85)\n",
    "print(d,e,f, e + f)\n",
    "\n",
    "g = str(\"24BD\")\n",
    "h = str(12.5)\n",
    "i = str(-3.85)\n",
    "print(g,h,i, h + i)"
   ]
  },
  {
   "cell_type": "markdown",
   "id": "738fb29e-dc16-4602-90fa-9f34e6cfd55d",
   "metadata": {},
   "source": [
    "Example 19"
   ]
  },
  {
   "cell_type": "code",
   "execution_count": 2,
   "id": "88b61d2e-66bf-46c4-98ce-ce49884d6ffa",
   "metadata": {},
   "outputs": [
    {
     "name": "stdout",
     "output_type": "stream",
     "text": [
      "His name Antony, but we call him 'T'\n"
     ]
    }
   ],
   "source": [
    "print(\"His name Antony, but we call him 'T'\")"
   ]
  },
  {
   "cell_type": "code",
   "execution_count": 4,
   "id": "56dc7c68-265c-4196-9b66-8610f6ee3fa9",
   "metadata": {},
   "outputs": [
    {
     "name": "stdout",
     "output_type": "stream",
     "text": [
      "Chill, chill, chill, chill, chill\n",
      "Chill, chill, chill, chill, chill\n",
      "Chill, chill, chill, chill, chill\n",
      "Chill, chill, chill, chill, chill\n"
     ]
    }
   ],
   "source": [
    "a = '''Chill, chill, chill, chill, chill\n",
    "Chill, chill, chill, chill, chill\n",
    "Chill, chill, chill, chill, chill\n",
    "Chill, chill, chill, chill, chill'''\n",
    "print(a)"
   ]
  },
  {
   "cell_type": "code",
   "execution_count": 1,
   "id": "d6e84754-31f4-4804-b2e8-af70606d5cf6",
   "metadata": {},
   "outputs": [
    {
     "name": "stdout",
     "output_type": "stream",
     "text": [
      "s\n",
      "a\n",
      "l\n",
      "e\n",
      "m\n"
     ]
    }
   ],
   "source": [
    "a = \"salem\"\n",
    "print(a[0])\n",
    "print(a[1])\n",
    "print(a[2])\n",
    "print(a[3])\n",
    "print(a[4])"
   ]
  },
  {
   "cell_type": "markdown",
   "id": "def434e3-ae74-4050-b8aa-b5584f35a2cf",
   "metadata": {},
   "source": [
    "Example 20"
   ]
  },
  {
   "cell_type": "code",
   "execution_count": 25,
   "id": "ddf98ac3-e3a9-4830-a150-3ac0ba719957",
   "metadata": {},
   "outputs": [
    {
     "name": "stdout",
     "output_type": "stream",
     "text": [
      "vid\n",
      "vid Lynch\n",
      "David\n",
      "Lyn\n"
     ]
    }
   ],
   "source": [
    "a = \"David Lynch\"\n",
    "print(a[2:5])   #print string from index n to m, m is not included\n",
    "print(a[2:])    #print string from index n to the end\n",
    "print(a[:5])    #print string from start to index m\n",
    "print(a[-5:-2]) #print string by negative indexes"
   ]
  },
  {
   "cell_type": "markdown",
   "id": "aa53dec0-90e9-4213-b333-528f273e6b1f",
   "metadata": {},
   "source": [
    "Example 21"
   ]
  },
  {
   "cell_type": "code",
   "execution_count": 39,
   "id": "f2ab82b0-e8d5-4d75-b9ea-bd7e0795dd72",
   "metadata": {},
   "outputs": [
    {
     "name": "stdout",
     "output_type": "stream",
     "text": [
      "DAVID LYNCH\n",
      "david lynch\n",
      "David Bowie\n",
      "['David', 'Lynch']\n",
      "David Lynch\n"
     ]
    }
   ],
   "source": [
    "a = \"David Lynch\"\n",
    "print(a.upper())\n",
    "print(a.lower())\n",
    "print(a.replace(\"Lynch\",\"Bowie\"))\n",
    "print(a.split(\" \"))\n",
    "\n",
    "b = \" David Lynch\"\n",
    "print(b.strip())"
   ]
  },
  {
   "cell_type": "code",
   "execution_count": 41,
   "id": "bfa2c691-61db-401b-86e7-080dd42d6dc7",
   "metadata": {},
   "outputs": [
    {
     "name": "stdout",
     "output_type": "stream",
     "text": [
      "DavidLynch\n",
      "David Lynch\n"
     ]
    }
   ],
   "source": [
    "a = \"David\"\n",
    "b = \"Lynch\"\n",
    "c = a + b\n",
    "d = a + \" \" + b\n",
    "print(c)\n",
    "print(d)"
   ]
  },
  {
   "cell_type": "markdown",
   "id": "d4539564-6c8d-4a82-a25f-d0fc3d1f6a26",
   "metadata": {},
   "source": [
    "Example 22"
   ]
  },
  {
   "cell_type": "code",
   "execution_count": 47,
   "id": "f6c43f45-f119-4fc6-8e7d-e5d691d1ae05",
   "metadata": {},
   "outputs": [
    {
     "name": "stdout",
     "output_type": "stream",
     "text": [
      "The price of this product is 19.9\n",
      "If you buy two of them, the total will be 39.8\n"
     ]
    }
   ],
   "source": [
    "a = 19.9\n",
    "txt = f\"The price of this product is {a}\"\n",
    "txt1 = f\"If you buy two of them, the total will be {2 * a}\"\n",
    "print(txt)\n",
    "print(txt1)"
   ]
  },
  {
   "cell_type": "markdown",
   "id": "671d73ee-7141-4539-ab34-e6b64833ea14",
   "metadata": {},
   "source": [
    "Example 23"
   ]
  },
  {
   "cell_type": "code",
   "execution_count": 53,
   "id": "958bd07b-1c7a-4b4b-855e-0b31b696719d",
   "metadata": {},
   "outputs": [
    {
     "name": "stdout",
     "output_type": "stream",
     "text": [
      "samurai in Japan are called \"Bushi\", which means \"warrior\" in japanese\n"
     ]
    }
   ],
   "source": [
    "a = \"samurai in Japan are called \\\"Bushi\\\", which means \\\"warrior\\\" in japanese\"\n",
    "print(a)"
   ]
  },
  {
   "cell_type": "markdown",
   "id": "48b7cab5-f3a2-42ed-80c8-b18280b3562d",
   "metadata": {},
   "source": [
    "Example 24"
   ]
  },
  {
   "cell_type": "code",
   "execution_count": 71,
   "id": "db4d2ca1-99ea-416f-afc2-693776fabe6c",
   "metadata": {},
   "outputs": [
    {
     "name": "stdout",
     "output_type": "stream",
     "text": [
      "Salem alem\n",
      "False\n",
      "False\n",
      "False\n",
      "True\n",
      "2\n",
      "-1\n"
     ]
    }
   ],
   "source": [
    "txt = \"salem alem\"\n",
    "a = txt.capitalize()\n",
    "b = txt.isalpha()\n",
    "c = txt.isdigit()\n",
    "d = txt.isupper()\n",
    "e = txt.islower()\n",
    "f = txt.count(\"m\")\n",
    "g = txt.find(\"A\")\n",
    "print(a)\n",
    "print(b)\n",
    "print(c)\n",
    "print(d)\n",
    "print(e)\n",
    "print(f)\n",
    "print(g)"
   ]
  }
 ],
 "metadata": {
  "kernelspec": {
   "display_name": "Python [conda env:base] *",
   "language": "python",
   "name": "conda-base-py"
  },
  "language_info": {
   "codemirror_mode": {
    "name": "ipython",
    "version": 3
   },
   "file_extension": ".py",
   "mimetype": "text/x-python",
   "name": "python",
   "nbconvert_exporter": "python",
   "pygments_lexer": "ipython3",
   "version": "3.12.7"
  }
 },
 "nbformat": 4,
 "nbformat_minor": 5
}
