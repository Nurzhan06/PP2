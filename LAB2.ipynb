{
 "cells": [
  {
   "cell_type": "markdown",
   "id": "3972c472-b194-4eec-ba4e-6d577cc63cfa",
   "metadata": {},
   "source": [
    "W3SCHOOLS PYTHON TUTORIALS\n",
    "PP2 lab 2\n",
    "Nurzhan Abdik  ID: 24B032170"
   ]
  },
  {
   "cell_type": "markdown",
   "id": "22dc0790-12e3-418e-bea5-303333fcccd1",
   "metadata": {},
   "source": [
    "Example 1"
   ]
  },
  {
   "cell_type": "code",
   "execution_count": 1,
   "id": "83c46fc3-a06b-404d-95a7-f897e1a7f635",
   "metadata": {},
   "outputs": [
    {
     "name": "stdout",
     "output_type": "stream",
     "text": [
      "True\n",
      "False\n",
      "False\n"
     ]
    }
   ],
   "source": [
    "print(100 > 99)\n",
    "print(100 == 99)\n",
    "print(100 < 99)"
   ]
  },
  {
   "cell_type": "markdown",
   "id": "7f0eb9a6-1358-47ca-9345-d83af327acad",
   "metadata": {},
   "source": [
    "Example 2"
   ]
  },
  {
   "cell_type": "code",
   "execution_count": 1,
   "id": "e6e2baff-ec2d-4ba5-b9da-a4fdf15705d8",
   "metadata": {},
   "outputs": [
    {
     "name": "stdout",
     "output_type": "stream",
     "text": [
      "b is a greater than a\n"
     ]
    }
   ],
   "source": [
    "a = 153\n",
    "b = 171\n",
    "\n",
    "if a > b:\n",
    "    print(\"a is a greater than b\")\n",
    "else:\n",
    "    print(\"b is a greater than a\")"
   ]
  },
  {
   "cell_type": "markdown",
   "id": "51e4b396-e42d-4906-bb4c-fc1433ab4c17",
   "metadata": {},
   "source": [
    "Example 3"
   ]
  },
  {
   "cell_type": "code",
   "execution_count": 15,
   "id": "62ad3505-9378-4416-870d-4359a11ae763",
   "metadata": {},
   "outputs": [
    {
     "name": "stdout",
     "output_type": "stream",
     "text": [
      "True\n",
      "False\n",
      "True\n",
      "True\n",
      "False\n",
      "True\n"
     ]
    }
   ],
   "source": [
    "print(bool(153))\n",
    "print(bool(0))\n",
    "print(bool(-153))\n",
    "\n",
    "print(bool(\"salem\"))\n",
    "print(bool(\"\"))\n",
    "print(bool(\"  \"))"
   ]
  },
  {
   "cell_type": "markdown",
   "id": "89f17ed0-edd3-47b5-82bc-2b5caec8c490",
   "metadata": {},
   "source": [
    "Example 4"
   ]
  },
  {
   "cell_type": "code",
   "execution_count": 17,
   "id": "e6987e34-96a4-4b03-a0e2-d372022f59ae",
   "metadata": {},
   "outputs": [
    {
     "name": "stdout",
     "output_type": "stream",
     "text": [
      "It is true\n"
     ]
    }
   ],
   "source": [
    "def func():\n",
    "    return True\n",
    "\n",
    "if func():\n",
    "    print(\"It is true\")\n",
    "else:\n",
    "    print(\"It is false\")"
   ]
  },
  {
   "cell_type": "markdown",
   "id": "586a6b5c-480a-4fce-a91e-de71f6fc00e2",
   "metadata": {},
   "source": [
    "Example 5"
   ]
  },
  {
   "cell_type": "code",
   "execution_count": 21,
   "id": "cbd7e8c1-06bb-46e0-adda-3bd6802eb535",
   "metadata": {},
   "outputs": [
    {
     "name": "stdout",
     "output_type": "stream",
     "text": [
      "True\n",
      "False\n",
      "False\n",
      "True\n"
     ]
    }
   ],
   "source": [
    "a = 153\n",
    "b = \"salem\"\n",
    "\n",
    "print(isinstance(a, int)) #check if a is an int\n",
    "print(isinstance(b, int)) #check if b is an int\n",
    "print(isinstance(a, str))\n",
    "print(isinstance(b, str))"
   ]
  },
  {
   "cell_type": "markdown",
   "id": "0c31fed0-d13f-4a29-9bc6-b396d475e38c",
   "metadata": {},
   "source": [
    "Example 6"
   ]
  },
  {
   "cell_type": "code",
   "execution_count": 35,
   "id": "fda521df-7e21-403c-81c9-ca194158e225",
   "metadata": {},
   "outputs": [
    {
     "name": "stdout",
     "output_type": "stream",
     "text": [
      "10\n",
      "6\n",
      "16\n",
      "4.0\n",
      "64\n",
      "1\n",
      "3\n"
     ]
    }
   ],
   "source": [
    "x = 8\n",
    "y = 2\n",
    "z = 5\n",
    "\n",
    "print(x + y)\n",
    "print(x - y)\n",
    "print(x * y)\n",
    "print(x / y)\n",
    "print(x ** y)\n",
    "print(x // z)\n",
    "print(x % z)"
   ]
  },
  {
   "cell_type": "markdown",
   "id": "9c9789b9-6a9d-4e88-8dc7-9caffb7ddd7c",
   "metadata": {},
   "source": [
    "Example 7"
   ]
  },
  {
   "cell_type": "code",
   "execution_count": 13,
   "id": "b71771fa-67a8-443f-8541-ba4d18feb23b",
   "metadata": {},
   "outputs": [
    {
     "name": "stdout",
     "output_type": "stream",
     "text": [
      "12.0\n"
     ]
    }
   ],
   "source": [
    "x = 5\n",
    "x += 3 # same as the x = x + 3\n",
    "x -= 2\n",
    "x *= 6\n",
    "x /= 3\n",
    "print(x)"
   ]
  },
  {
   "cell_type": "markdown",
   "id": "82b33e9b-1518-4409-ad36-eeb29facc447",
   "metadata": {},
   "source": [
    "Example 8"
   ]
  },
  {
   "cell_type": "code",
   "execution_count": 7,
   "id": "03583d08-a8d4-433c-a184-1125e9fc0994",
   "metadata": {},
   "outputs": [
    {
     "name": "stdout",
     "output_type": "stream",
     "text": [
      "['iphone', 'samsung', 'xiaomi', 'samsung']\n",
      "4\n",
      "<class 'list'>\n"
     ]
    }
   ],
   "source": [
    "phones = [\"iphone\", \"samsung\", \"xiaomi\", \"samsung\"]\n",
    "print(phones)\n",
    "print(len(phones))\n",
    "print(type(phones))"
   ]
  },
  {
   "cell_type": "markdown",
   "id": "4fbd8c44-5290-4dd3-a5ec-401c5b2a863b",
   "metadata": {},
   "source": [
    "Example 9"
   ]
  },
  {
   "cell_type": "code",
   "execution_count": 15,
   "id": "32915855-dc97-40e3-8a0e-17391efe6a0e",
   "metadata": {},
   "outputs": [
    {
     "name": "stdout",
     "output_type": "stream",
     "text": [
      "['iphone', 'samsung', 'xiaomi', 'samsung'] [1, 2, 3, 4, 5, 6] [True, True, False] ['iphone', 1, 3, True]\n",
      "4\n",
      "6\n",
      "3\n",
      "4\n"
     ]
    }
   ],
   "source": [
    "phones = [\"iphone\", \"samsung\", \"xiaomi\", \"samsung\"]\n",
    "nums = [1,2,3,4,5,6]\n",
    "facts = [True, True, False]\n",
    "combined_list = [\"iphone\", 1, 3, True]\n",
    "\n",
    "print(phones, nums, facts, combined_list)\n",
    "print(len(phones))\n",
    "print(len(nums))\n",
    "print(len(facts))\n",
    "print(len(combined_list))"
   ]
  },
  {
   "cell_type": "markdown",
   "id": "9e8f64a8-2066-4c87-abb5-818ccc83c29f",
   "metadata": {},
   "source": [
    "Example 10"
   ]
  },
  {
   "cell_type": "code",
   "execution_count": 17,
   "id": "aefd1d9c-e38a-490c-addc-fe3a3e5f8f41",
   "metadata": {},
   "outputs": [
    {
     "name": "stdout",
     "output_type": "stream",
     "text": [
      "[1, 3, 5, 7, 9]\n"
     ]
    }
   ],
   "source": [
    "odd_nums = list((1,3,5,7,9))\n",
    "print(odd_nums)"
   ]
  },
  {
   "cell_type": "markdown",
   "id": "785ae973-b0fd-4a5b-9cf0-be7bcdbd9ad7",
   "metadata": {},
   "source": [
    "Example 11"
   ]
  },
  {
   "cell_type": "code",
   "execution_count": 33,
   "id": "1ca37132-24df-437e-b0bc-e896983037d6",
   "metadata": {},
   "outputs": [
    {
     "name": "stdout",
     "output_type": "stream",
     "text": [
      "cherry\n",
      "lime\n",
      "['pear', 'cherry', 'grape']\n",
      "['grape', 'orange', 'lime']\n",
      "['apple', 'pear', 'cherry', 'grape']\n"
     ]
    }
   ],
   "source": [
    "fruits = ['apple', 'pear', 'cherry', 'grape', 'orange', 'lime']\n",
    "print(fruits[2])\n",
    "print(fruits[-1])\n",
    "print(fruits[1:4])\n",
    "print(fruits[3:])\n",
    "print(fruits[:4])"
   ]
  },
  {
   "cell_type": "markdown",
   "id": "532a7af6-1ea0-47b0-8f33-f86eb5b742eb",
   "metadata": {},
   "source": [
    "Example 12"
   ]
  },
  {
   "cell_type": "code",
   "execution_count": 39,
   "id": "6a8b3864-f09d-44dc-bf30-fda6a8bfce83",
   "metadata": {},
   "outputs": [
    {
     "name": "stdout",
     "output_type": "stream",
     "text": [
      "we have a 'pear'\n",
      "we don't have a 'banana'\n"
     ]
    }
   ],
   "source": [
    "fruits = ['apple', 'pear', 'cherry', 'grape', 'orange', 'lime']\n",
    "\n",
    "if 'pear' in fruits:\n",
    "    print(\"we have a 'pear'\")\n",
    "else:\n",
    "    print(\"we don't have a 'pear'\")\n",
    "\n",
    "if 'banana' in fruits:\n",
    "    print(\"we have a 'banana'\")\n",
    "else:\n",
    "    print(\"we don't have a 'banana'\") "
   ]
  },
  {
   "cell_type": "markdown",
   "id": "93629984-441b-4b04-895b-d0678041462b",
   "metadata": {},
   "source": [
    "Example 13"
   ]
  },
  {
   "cell_type": "code",
   "execution_count": 53,
   "id": "91301408-29f9-4d95-aaf8-ffad62cf8979",
   "metadata": {},
   "outputs": [
    {
     "name": "stdout",
     "output_type": "stream",
     "text": [
      "['lemon', 'peach', 'blackberry', 'strawberry', 'pineapple']\n"
     ]
    }
   ],
   "source": [
    "fruits = ['apple', 'pear', 'cherry', 'grape', 'orange', 'lime']\n",
    "fruits[0] = 'lemon'\n",
    "fruits[1:3] = ['peach', 'blackberry']\n",
    "fruits[3:6] = ['pineapple']\n",
    "fruits.insert(3, 'strawberry')\n",
    "print(fruits)"
   ]
  },
  {
   "cell_type": "markdown",
   "id": "47ee3731-3caa-4db2-a1d5-27dd978315b6",
   "metadata": {},
   "source": [
    "Example 14"
   ]
  },
  {
   "cell_type": "code",
   "execution_count": 57,
   "id": "03647dc2-1340-4c23-87e3-a74723d2948e",
   "metadata": {},
   "outputs": [
    {
     "name": "stdout",
     "output_type": "stream",
     "text": [
      "['apple', 'banana', 'pear', 'peach', 'mango']\n"
     ]
    }
   ],
   "source": [
    "fruits = ['apple', 'pear', 'peach']\n",
    "\n",
    "fruits.insert(1, 'banana')\n",
    "fruits.append('mango')\n",
    "print(fruits)"
   ]
  },
  {
   "cell_type": "markdown",
   "id": "9bb2e744-003b-4ae2-817c-af2e76c0da96",
   "metadata": {},
   "source": [
    "Example 15"
   ]
  },
  {
   "cell_type": "code",
   "execution_count": 67,
   "id": "519834d6-9bb9-4a56-9e9f-d7d464cb951f",
   "metadata": {},
   "outputs": [
    {
     "name": "stdout",
     "output_type": "stream",
     "text": [
      "['apple', 'pear', 'peach', 'lemon', 'lime', 'grapefruit']\n",
      "['apple', 'pear', 'peach', 'lemon', 'lime', 'grapefruit', 'strawberry', 'blackberry', 'gooseberry']\n"
     ]
    }
   ],
   "source": [
    "fruits = ['apple', 'pear', 'peach']\n",
    "citrus = ['lemon', 'lime', 'grapefruit']\n",
    "berries = ('strawberry', 'blackberry', 'gooseberry')\n",
    "\n",
    "fruits.extend(citrus)\n",
    "print(fruits)\n",
    "\n",
    "fruits.extend(berries)\n",
    "print(fruits)"
   ]
  },
  {
   "cell_type": "markdown",
   "id": "513e87b5-9245-4483-b228-35d75cc8ef85",
   "metadata": {},
   "source": [
    "Example 16"
   ]
  },
  {
   "cell_type": "code",
   "execution_count": 5,
   "id": "7fd53226-fb2c-48fa-8d6f-de43dc46dc23",
   "metadata": {},
   "outputs": [
    {
     "name": "stdout",
     "output_type": "stream",
     "text": [
      "['apple', 'pear', 'apple', 'cherry', 'grape', 'orange', 'lime']\n",
      "['pear', 'apple', 'cherry', 'grape', 'orange', 'lime']\n",
      "['pear', 'cherry', 'grape', 'orange', 'lime']\n",
      "['pear', 'cherry', 'grape', 'orange']\n",
      "['pear', 'grape', 'orange']\n",
      "[]\n"
     ]
    }
   ],
   "source": [
    "fruits = ['apple', 'pear', 'apple', 'cherry', 'grape', 'orange', 'lime']\n",
    "print(fruits)\n",
    "\n",
    "fruits.remove('apple')\n",
    "print(fruits)\n",
    "\n",
    "fruits.pop(1)\n",
    "print(fruits)\n",
    "\n",
    "fruits.pop()\n",
    "print(fruits)\n",
    "\n",
    "del fruits[1]\n",
    "print(fruits)\n",
    "\n",
    "fruits.clear()\n",
    "print(fruits)"
   ]
  },
  {
   "cell_type": "markdown",
   "id": "e319d001-c39e-408a-9639-1e896343260f",
   "metadata": {},
   "source": [
    "Example 17"
   ]
  },
  {
   "cell_type": "code",
   "execution_count": 13,
   "id": "4e65f67e-6c62-40b3-bd06-68f2929c391b",
   "metadata": {},
   "outputs": [
    {
     "name": "stdout",
     "output_type": "stream",
     "text": [
      "apple\n",
      "pear\n",
      "peach\n",
      "tomato\n",
      "cucumber\n",
      "sweetcorn\n",
      "1\n",
      "3\n",
      "5\n",
      "2\n",
      "4\n",
      "6\n"
     ]
    }
   ],
   "source": [
    "fruits = ['apple', 'pear', 'peach']\n",
    "for x in fruits:\n",
    "    print(x)\n",
    "\n",
    "vegetables = ['tomato', 'cucumber', 'sweetcorn']\n",
    "[print(x) for x in vegetables] \n",
    "\n",
    "odd_nums = [1,3,5]\n",
    "for i in range(len(odd_nums)):\n",
    "    print(odd_nums[i])\n",
    "    \n",
    "even_nums = [2,4,6]\n",
    "i = 0\n",
    "while i < len(even_nums):\n",
    "    print(even_nums[i])\n",
    "    i += 1"
   ]
  },
  {
   "cell_type": "markdown",
   "id": "a0c4c438-9d94-4706-86e6-fa840c946a4b",
   "metadata": {},
   "source": [
    "Example 18"
   ]
  },
  {
   "cell_type": "code",
   "execution_count": 17,
   "id": "bf127d35-2e66-40f7-a511-d7a616d9702d",
   "metadata": {},
   "outputs": [
    {
     "name": "stdout",
     "output_type": "stream",
     "text": [
      "['pear', 'cherry', 'grape', 'orange']\n",
      "['apple', 'pear', 'apple', 'grape', 'orange']\n"
     ]
    }
   ],
   "source": [
    "fruits = ['apple', 'pear', 'apple', 'cherry', 'grape', 'orange', 'lime']\n",
    "\n",
    "fruits_with_R = []\n",
    "for x in fruits:\n",
    "    if \"r\" in x:\n",
    "        fruits_with_R.append(x)\n",
    "print(fruits_with_R)\n",
    "\n",
    "fruits_with_A = [x for x in fruits if \"a\" in x]\n",
    "print(fruits_with_A)"
   ]
  },
  {
   "cell_type": "markdown",
   "id": "7ea8b079-46dd-408c-90a3-807fde19889f",
   "metadata": {},
   "source": [
    "Example 19"
   ]
  },
  {
   "cell_type": "code",
   "execution_count": 19,
   "id": "47d2a742-cf8b-4527-8e4c-9201d23c75f2",
   "metadata": {},
   "outputs": [
    {
     "name": "stdout",
     "output_type": "stream",
     "text": [
      "['apple', 'apple', 'cherry', 'grape', 'lime', 'orange', 'pear']\n",
      "['pear', 'orange', 'lime', 'grape', 'cherry', 'apple', 'apple']\n",
      "[2, 5, 11, 34, 234, 309]\n",
      "[309, 234, 34, 11, 5, 2]\n"
     ]
    }
   ],
   "source": [
    "fruits = ['apple', 'pear', 'apple', 'cherry', 'grape', 'orange', 'lime']\n",
    "nums = [11,2,5,309,234,34]\n",
    "\n",
    "fruits.sort()\n",
    "print(fruits)\n",
    "fruits.sort(reverse = True)\n",
    "print(fruits)\n",
    "\n",
    "nums.sort()\n",
    "print(nums)\n",
    "nums.sort(reverse = True)\n",
    "print(nums)"
   ]
  },
  {
   "cell_type": "markdown",
   "id": "03896fe4-5652-4655-a7be-68204b2781cf",
   "metadata": {},
   "source": [
    "Example 20"
   ]
  },
  {
   "cell_type": "code",
   "execution_count": 17,
   "id": "0f74b04b-7bd7-48b8-9a44-64467f3814cb",
   "metadata": {},
   "outputs": [
    {
     "name": "stdout",
     "output_type": "stream",
     "text": [
      "['cherry', 'Cherry', 'banana', 'Banana', 'apple', 'Apple']\n",
      "[34, 234, 309, 5, 2, 11]\n"
     ]
    }
   ],
   "source": [
    "fruits = ['Apple', 'apple', 'Banana', 'banana', 'Cherry', 'cherry']\n",
    "nums = [11,2,5,309,234,34]\n",
    "\n",
    "fruits.reverse()\n",
    "print(fruits)\n",
    "nums.reverse()\n",
    "print(nums)"
   ]
  },
  {
   "cell_type": "markdown",
   "id": "964a8813-e824-4fdb-be0b-b0f90668d735",
   "metadata": {},
   "source": [
    "Example 21"
   ]
  },
  {
   "cell_type": "code",
   "execution_count": 15,
   "id": "b95b0af9-403a-435d-a56d-bd1242044015",
   "metadata": {},
   "outputs": [
    {
     "name": "stdout",
     "output_type": "stream",
     "text": [
      "['Apple', 'Banana', 'Cherry', 'apple', 'banana', 'cherry']\n",
      "['Apple', 'apple', 'Banana', 'banana', 'Cherry', 'cherry']\n"
     ]
    }
   ],
   "source": [
    "fruits = ['Apple', 'apple', 'Banana', 'banana', 'Cherry', 'cherry']\n",
    "fruits.sort()\n",
    "print(fruits)\n",
    "\n",
    "fruits.sort(key = str.lower)\n",
    "print(fruits)"
   ]
  },
  {
   "cell_type": "markdown",
   "id": "cc1359b8-cdc6-4aa4-b684-85b9b0eed371",
   "metadata": {},
   "source": [
    "Example 22"
   ]
  },
  {
   "cell_type": "code",
   "execution_count": 5,
   "id": "a437e7f2-522d-4028-bd77-946c7ba3e4be",
   "metadata": {},
   "outputs": [
    {
     "name": "stdout",
     "output_type": "stream",
     "text": [
      "[5, 4, 6, 3, 7, 2, 8, 1, 9, 10]\n"
     ]
    }
   ],
   "source": [
    "def func(n):\n",
    "  return abs(n - 5)\n",
    "\n",
    "nums = [1,2,3,4,5,6,7,8,9,10]\n",
    "nums.sort(key = func)\n",
    "print(nums)"
   ]
  },
  {
   "cell_type": "markdown",
   "id": "b7448640-333a-438c-88e2-50fa9d6ee3bc",
   "metadata": {},
   "source": [
    "Example 23"
   ]
  },
  {
   "cell_type": "code",
   "execution_count": 23,
   "id": "ed75248f-a705-4618-b190-e1ae6641de44",
   "metadata": {},
   "outputs": [
    {
     "name": "stdout",
     "output_type": "stream",
     "text": [
      "['Apple', 'apple', 'Banana', 'banana', 'Cherry', 'cherry']\n",
      "['Apple', 'apple', 'Banana', 'banana', 'Cherry', 'cherry']\n",
      "['Apple', 'apple', 'Banana', 'banana', 'Cherry', 'cherry']\n",
      "['Apple', 'apple', 'Banana', 'banana', 'Cherry', 'cherry']\n"
     ]
    }
   ],
   "source": [
    "fruits = ['Apple', 'apple', 'Banana', 'banana', 'Cherry', 'cherry']\n",
    "fruits_1 = fruits.copy()\n",
    "fruits_2 = list(fruits)\n",
    "fruits_3 = fruits[:]\n",
    "\n",
    "print(fruits)\n",
    "print(fruits_1)\n",
    "print(fruits_2)\n",
    "print(fruits_3)"
   ]
  },
  {
   "cell_type": "markdown",
   "id": "a919bc1e-8759-4d5d-b13c-a385b92ec2cf",
   "metadata": {},
   "source": [
    "Example 24"
   ]
  },
  {
   "cell_type": "code",
   "execution_count": 27,
   "id": "ea7ccc68-2232-4508-b9d5-d546365d79a8",
   "metadata": {},
   "outputs": [
    {
     "name": "stdout",
     "output_type": "stream",
     "text": [
      "['apple', 'pear', 'lemon', 1, 14, 23]\n",
      "['apple', 'pear', 'lemon', 1, 14, 23]\n",
      "[1, 14, 23, 'apple', 'pear', 'lemon', 1, 14, 23]\n"
     ]
    }
   ],
   "source": [
    "fruits = ['apple', 'pear', 'lemon']\n",
    "nums = [1,14,23]\n",
    "\n",
    "fruits_n_nums = fruits + nums\n",
    "print(fruits_n_nums)\n",
    "\n",
    "for x in nums:\n",
    "    fruits.append(x)\n",
    "print(fruits)\n",
    "\n",
    "nums.extend(fruits)\n",
    "print(nums)"
   ]
  },
  {
   "cell_type": "markdown",
   "id": "280715e3-43df-4172-8af5-3d1b04ae2620",
   "metadata": {},
   "source": [
    "Example 25"
   ]
  },
  {
   "cell_type": "code",
   "execution_count": 13,
   "id": "965554ab-dd8b-40ad-b7d4-65047266d5c6",
   "metadata": {},
   "outputs": [
    {
     "name": "stdout",
     "output_type": "stream",
     "text": [
      "('pear', 'apple', 'cherry', 'grape', 'orange', 'lime')\n",
      "apple\n",
      "orange\n",
      "('cherry', 'grape', 'orange')\n",
      "('grape', 'orange')\n",
      "('grape', 'orange', 'lime')\n",
      "('pear', 'apple', 'cherry', 'grape')\n"
     ]
    }
   ],
   "source": [
    "fruits = ('pear', 'apple', 'cherry', 'grape', 'orange', 'lime')\n",
    "print(fruits)\n",
    "print(fruits[1])\n",
    "print(fruits[-2])\n",
    "print(fruits[2:5])\n",
    "print(fruits[-3:-1])\n",
    "print(fruits[3:])\n",
    "print(fruits[:4])"
   ]
  },
  {
   "cell_type": "markdown",
   "id": "ed65cc98-8547-412c-ae66-4973c68cd728",
   "metadata": {},
   "source": [
    "Example 26"
   ]
  },
  {
   "cell_type": "code",
   "execution_count": 23,
   "id": "d70fa6b7-c3a8-4496-9cce-364dabf91393",
   "metadata": {},
   "outputs": [
    {
     "name": "stdout",
     "output_type": "stream",
     "text": [
      "we have a pear\n"
     ]
    }
   ],
   "source": [
    "fruits = ('apple', 'pear', 'lime')\n",
    "if 'pear' in fruits:\n",
    "    print('we have a pear')"
   ]
  },
  {
   "cell_type": "markdown",
   "id": "b1ddb1cf-a897-4d83-98de-82d76d206f48",
   "metadata": {},
   "source": [
    "Example 27"
   ]
  },
  {
   "cell_type": "code",
   "execution_count": 29,
   "id": "834767f5-b3d5-452a-8cf8-c955ed88cb66",
   "metadata": {},
   "outputs": [
    {
     "name": "stdout",
     "output_type": "stream",
     "text": [
      "('apple', 'kiwi', 'lime')\n"
     ]
    }
   ],
   "source": [
    "fruits = ('apple', 'pear', 'lime')\n",
    "f = list(fruits)\n",
    "f[1] = 'kiwi'\n",
    "fruits = tuple(f)\n",
    "print(fruits)"
   ]
  },
  {
   "cell_type": "markdown",
   "id": "3df1654d-c0dc-4864-9c36-fe2e6e019ee6",
   "metadata": {},
   "source": [
    "Example 28"
   ]
  },
  {
   "cell_type": "code",
   "execution_count": 15,
   "id": "41265e5f-6b1e-4abe-a6c0-827e91ee23e1",
   "metadata": {},
   "outputs": [
    {
     "name": "stdout",
     "output_type": "stream",
     "text": [
      "('apple', 'banana', 'cherry', 'orange')\n",
      "('lemon', 'lime', 'orange', 'mandarin')\n"
     ]
    }
   ],
   "source": [
    "fruits = ('apple', 'banana', 'cherry')\n",
    "x = list(fruits)\n",
    "x.append('orange')\n",
    "fruits = tuple(x)\n",
    "print(fruits)\n",
    "\n",
    "citruses = ('lemon','lime','orange')\n",
    "z = ('mandarin',)\n",
    "citruses += z\n",
    "print(citruses)"
   ]
  },
  {
   "cell_type": "markdown",
   "id": "cce64223-7161-4c83-8d2b-4cb6735c8d56",
   "metadata": {},
   "source": [
    "Example 29"
   ]
  },
  {
   "cell_type": "code",
   "execution_count": null,
   "id": "e5a71c11-c541-4a1a-b9ab-f108ea93536c",
   "metadata": {},
   "outputs": [],
   "source": [
    "fruits = ('apple', 'banana', 'cherry')\n",
    "x = list(fruits)\n",
    "x.remove('banana')\n",
    "print(fruits)\n",
    "del fruits\n",
    "#print(fruits) will occur an error because the fruits tuple no le=onger exist"
   ]
  },
  {
   "cell_type": "markdown",
   "id": "5e30d1c2-f6fc-4576-a659-944064abbc58",
   "metadata": {},
   "source": [
    "Example 30"
   ]
  },
  {
   "cell_type": "code",
   "execution_count": 19,
   "id": "66c2275f-eb62-49cd-a008-c86253ff7423",
   "metadata": {},
   "outputs": [
    {
     "name": "stdout",
     "output_type": "stream",
     "text": [
      "apple\n",
      "banana\n",
      "cherry\n"
     ]
    }
   ],
   "source": [
    "fruits = ('apple', 'banana', 'cherry')\n",
    "(green, yellow, red) = fruits\n",
    "print(green)\n",
    "print(yellow)\n",
    "print(red)"
   ]
  },
  {
   "cell_type": "markdown",
   "id": "a236c729-abec-498f-8964-28c9ed435dee",
   "metadata": {},
   "source": [
    "Example 31"
   ]
  },
  {
   "cell_type": "code",
   "execution_count": 31,
   "id": "e505d057-55b8-4e7f-a40e-4d5d9edfe80d",
   "metadata": {},
   "outputs": [
    {
     "name": "stdout",
     "output_type": "stream",
     "text": [
      "['apple', 'lime']\n",
      "banana\n",
      "cherry\n"
     ]
    }
   ],
   "source": [
    "fruits = ('apple', 'lime', 'banana', 'cherry')\n",
    "(*green, yellow, red) = fruits\n",
    "print(green)\n",
    "print(yellow)\n",
    "print(red)"
   ]
  },
  {
   "cell_type": "markdown",
   "id": "7b7db01f-a8cb-4133-916d-5dc082e48222",
   "metadata": {},
   "source": [
    "Example 32"
   ]
  },
  {
   "cell_type": "code",
   "execution_count": 43,
   "id": "f1b2d60a-31e6-4ce6-beff-8416b71840fc",
   "metadata": {},
   "outputs": [
    {
     "name": "stdout",
     "output_type": "stream",
     "text": [
      "apple\n",
      "pear\n",
      "cherry\n",
      "lemon\n",
      "lime\n",
      "orange\n",
      "tomato\n",
      "cucumber\n",
      "corn\n"
     ]
    }
   ],
   "source": [
    "fruits = ('apple', 'pear', 'cherry')\n",
    "for x in fruits:\n",
    "    print(x)\n",
    "\n",
    "citruses = ('lemon', 'lime', 'orange')\n",
    "for i in range(len(fruits)):\n",
    "    print(citruses[i])\n",
    "\n",
    "vegie = ('tomato', 'cucumber', 'corn')\n",
    "i = 0\n",
    "while i < (len(fruits)):\n",
    "    print(vegie[i])\n",
    "    i += 1"
   ]
  },
  {
   "cell_type": "markdown",
   "id": "7a92329f-3a9a-4f9d-a1f1-469b545a4964",
   "metadata": {},
   "source": [
    "Example 33"
   ]
  },
  {
   "cell_type": "code",
   "execution_count": 51,
   "id": "9a362393-6464-40b5-936d-e8b5b05b0cd9",
   "metadata": {},
   "outputs": [
    {
     "name": "stdout",
     "output_type": "stream",
     "text": [
      "('apple', 'pear', 'cherry', 'lemon', 'lime', 'orange')\n",
      "('apple', 'pear', 'cherry', 'apple', 'pear', 'cherry')\n",
      "('lemon', 'lime', 'orange', 'lemon', 'lime', 'orange', 'lemon', 'lime', 'orange')\n"
     ]
    }
   ],
   "source": [
    "fruits = ('apple', 'pear', 'cherry')\n",
    "citruses = ('lemon', 'lime', 'orange')\n",
    "a = fruits + citruses\n",
    "b = fruits * 2\n",
    "c = citruses * 3\n",
    "print(a)\n",
    "print(b)\n",
    "print(c)"
   ]
  },
  {
   "cell_type": "markdown",
   "id": "e48afa98-5efe-456a-a614-987ef2f1f75a",
   "metadata": {},
   "source": [
    "Example 34"
   ]
  },
  {
   "cell_type": "code",
   "execution_count": 53,
   "id": "42f9b502-144e-48df-b51e-01af95b9f41e",
   "metadata": {},
   "outputs": [
    {
     "name": "stdout",
     "output_type": "stream",
     "text": [
      "{0, True, 'apple', 'banana', 'pear'}\n"
     ]
    }
   ],
   "source": [
    "myset = {'apple', 'pear', 'banana', 'pear', True, 0, False, 1} # 0 and 1 is the same as True and False\n",
    "print(myset)                                                   #print without duplicates"
   ]
  },
  {
   "cell_type": "markdown",
   "id": "9113447f-4dfb-4fc5-a9f8-5b05ecd9c784",
   "metadata": {},
   "source": [
    "Example 35"
   ]
  },
  {
   "cell_type": "code",
   "execution_count": 67,
   "id": "4de1a5ba-d029-4b0b-b811-51ccc35bd40e",
   "metadata": {},
   "outputs": [
    {
     "name": "stdout",
     "output_type": "stream",
     "text": [
      "{1, 3, 5, 7, 9, 11}\n",
      "{'apple', 'coconut', 'pear'}\n"
     ]
    }
   ],
   "source": [
    "nums = {1,5,3,7,11,9}                  #sort by ascending order\n",
    "fruits = {'coconut', 'pear', 'apple'}  #sort by hash\n",
    "print(nums)\n",
    "print(fruits)"
   ]
  },
  {
   "cell_type": "markdown",
   "id": "3af87c98-34d6-47d5-b720-e9acdb7fc110",
   "metadata": {},
   "source": [
    "Example 36"
   ]
  },
  {
   "cell_type": "code",
   "execution_count": 81,
   "id": "beb09013-4c26-4bf2-932a-247563d6efd0",
   "metadata": {},
   "outputs": [
    {
     "name": "stdout",
     "output_type": "stream",
     "text": [
      "{False, True, 2, -15, 'apple', 'pear'}\n",
      "<class 'set'>\n"
     ]
    }
   ],
   "source": [
    "myset = {-15, False, 'apple', 2, True, 'pear'}\n",
    "print(myset)\n",
    "print(type(myset))"
   ]
  },
  {
   "cell_type": "markdown",
   "id": "3e70d4b0-8457-4f99-b967-378aae4fcee6",
   "metadata": {},
   "source": [
    "Example 37"
   ]
  },
  {
   "cell_type": "code",
   "execution_count": 83,
   "id": "fb36eddc-5a3c-4a2a-a7c0-d16e0be0572d",
   "metadata": {},
   "outputs": [
    {
     "name": "stdout",
     "output_type": "stream",
     "text": [
      "coconut\n",
      "apple\n",
      "banana\n"
     ]
    }
   ],
   "source": [
    "myset = {'apple', 'banana', 'coconut'}\n",
    "for x in myset:\n",
    "    print(x)"
   ]
  },
  {
   "cell_type": "markdown",
   "id": "467b4615-1d83-42ac-9f98-d5b97d55995a",
   "metadata": {},
   "source": [
    "Example 38"
   ]
  },
  {
   "cell_type": "code",
   "execution_count": 87,
   "id": "ef806ac4-ee20-472c-9fcb-aa924569a464",
   "metadata": {},
   "outputs": [
    {
     "name": "stdout",
     "output_type": "stream",
     "text": [
      "True\n",
      "False\n",
      "False\n",
      "True\n"
     ]
    }
   ],
   "source": [
    "myset = {'apple', 'banana', 'coconut'}\n",
    "\n",
    "print('banana' in myset)\n",
    "print('pear' in myset)\n",
    "print('banana' not in myset)\n",
    "print('pear' not in myset)"
   ]
  },
  {
   "cell_type": "markdown",
   "id": "64687ae4-a5d2-4bcc-a6d3-b5a9bd2ac9b0",
   "metadata": {},
   "source": [
    "Example 39"
   ]
  },
  {
   "cell_type": "code",
   "execution_count": 93,
   "id": "2ab2b474-ed0c-40b2-bec2-a1f9deec5c8a",
   "metadata": {},
   "outputs": [
    {
     "name": "stdout",
     "output_type": "stream",
     "text": [
      "{'coconut', 'apple', 'banana'}\n",
      "{'strawberry', 'coconut', 'apple', 'banana'}\n",
      "{'apple', 'strawberry', 'lime', 'banana', 'coconut', 'lemon'}\n"
     ]
    }
   ],
   "source": [
    "fruits = {'apple', 'banana', 'coconut'}\n",
    "print(fruits)\n",
    "\n",
    "fruits.add('strawberry')\n",
    "print(fruits)\n",
    "\n",
    "citruses = {'lemon', 'lime'}\n",
    "fruits.update(citruses)\n",
    "print(fruits)"
   ]
  },
  {
   "cell_type": "markdown",
   "id": "4bcbd8d2-1358-4ae2-8f34-1676cc633dab",
   "metadata": {},
   "source": [
    "Example 40"
   ]
  },
  {
   "cell_type": "code",
   "execution_count": 99,
   "id": "814614ab-f0ce-495a-9033-683fc2d93545",
   "metadata": {},
   "outputs": [
    {
     "name": "stdout",
     "output_type": "stream",
     "text": [
      "{'cherry', 'apple', 'banana'}\n"
     ]
    }
   ],
   "source": [
    "fruits = {'apple', 'lime', 'banana', 'cherry'}\n",
    "\n",
    "fruits.remove('lime')\n",
    "print(fruits)"
   ]
  },
  {
   "cell_type": "markdown",
   "id": "7a0cb6e2-3da5-4a9a-90a5-793df8df74ad",
   "metadata": {},
   "source": [
    "Example 41"
   ]
  },
  {
   "cell_type": "code",
   "execution_count": 101,
   "id": "eca6c885-981b-4372-bb1e-d3efcb619f85",
   "metadata": {},
   "outputs": [
    {
     "name": "stdout",
     "output_type": "stream",
     "text": [
      "cherry\n",
      "apple\n",
      "banana\n",
      "lime\n"
     ]
    }
   ],
   "source": [
    "fruits = {'apple', 'lime', 'banana', 'cherry'}\n",
    "for x in fruits:\n",
    "    print(x)"
   ]
  },
  {
   "cell_type": "markdown",
   "id": "2c36f307-9ed1-4862-a454-96f9fcd5f76c",
   "metadata": {},
   "source": [
    "Example 42"
   ]
  },
  {
   "cell_type": "code",
   "execution_count": 7,
   "id": "50cf84dd-c7b6-4a61-a309-761b741f56d8",
   "metadata": {},
   "outputs": [
    {
     "name": "stdout",
     "output_type": "stream",
     "text": [
      "{'samsung', 'mandarin', 'apple', 'lemon', 'xiaomi', 'iphone'}\n",
      "{'samsung', 1, 2, 3, 'xiaomi', 'iphone'}\n",
      "{'mandarin', 1, 'apple', 2, 3, 'lemon'}\n",
      "{'samsung', 'mandarin', 1, 'apple', 2, 3, 'lemon', 'xiaomi', 'iphone'}\n"
     ]
    }
   ],
   "source": [
    "a = {'apple', 'mandarin', 'lemon'}\n",
    "b = {'iphone', 'samsung', 'xiaomi'}\n",
    "c = {1, 2,3}\n",
    "\n",
    "d = a.union(b)\n",
    "e = b | c\n",
    "a.update(c)\n",
    "f = a.union(b,c)\n",
    "print(d)\n",
    "print(e)\n",
    "print(a)\n",
    "print(f)"
   ]
  }
 ],
 "metadata": {
  "kernelspec": {
   "display_name": "Python [conda env:base] *",
   "language": "python",
   "name": "conda-base-py"
  },
  "language_info": {
   "codemirror_mode": {
    "name": "ipython",
    "version": 3
   },
   "file_extension": ".py",
   "mimetype": "text/x-python",
   "name": "python",
   "nbconvert_exporter": "python",
   "pygments_lexer": "ipython3",
   "version": "3.12.7"
  }
 },
 "nbformat": 4,
 "nbformat_minor": 5
}
