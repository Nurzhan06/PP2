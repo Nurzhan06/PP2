{
 "cells": [
  {
   "cell_type": "markdown",
   "id": "54e6650b-9176-4fd2-bb38-221e4d6c4e60",
   "metadata": {},
   "source": [
    "### LAB 5 ABDIK NURZHAN"
   ]
  },
  {
   "cell_type": "markdown",
   "id": "2da15020-cf45-478f-9d5b-b0fb95dacb9d",
   "metadata": {},
   "source": [
    "### RegEx"
   ]
  },
  {
   "cell_type": "markdown",
   "id": "9fd2e75e-f435-4a82-a0bb-22c4247fd268",
   "metadata": {},
   "source": [
    "## 1"
   ]
  },
  {
   "cell_type": "code",
   "execution_count": 55,
   "id": "9a3f6f18-c2a1-44fc-beef-bb4692ad837a",
   "metadata": {},
   "outputs": [
    {
     "name": "stdout",
     "output_type": "stream",
     "text": [
      "True\n",
      "True\n",
      "False\n",
      "False\n"
     ]
    }
   ],
   "source": [
    "import re\n",
    "\n",
    "def match_a_or_b(s):\n",
    "    x = re.fullmatch(r'ab*', s)\n",
    "    return bool(x)\n",
    "\n",
    "s_list = ['abb', 'a', 'aab','bba']\n",
    "for s in s_list:\n",
    "    print(match_a_or_b(s))"
   ]
  },
  {
   "cell_type": "markdown",
   "id": "174dd3df-7f8c-4b27-8713-0b0699eec3b5",
   "metadata": {},
   "source": [
    "## 2"
   ]
  },
  {
   "cell_type": "code",
   "execution_count": 37,
   "id": "9ac2c023-2ec1-46a8-8d60-63de796222c8",
   "metadata": {},
   "outputs": [
    {
     "name": "stdout",
     "output_type": "stream",
     "text": [
      "True\n",
      "True\n",
      "False\n",
      "False\n"
     ]
    }
   ],
   "source": [
    "import re\n",
    "\n",
    "def match_a_n_23b(s):\n",
    "    x = re.fullmatch(r'ab{2,3}', s)\n",
    "    return bool(x)\n",
    "\n",
    "s_list = ['abb', 'abbb', 'abbbb', 'aabb']\n",
    "for s in s_list:\n",
    "    print(match_a_n_23b(s))"
   ]
  },
  {
   "cell_type": "markdown",
   "id": "21f375bf-4025-452d-b52e-7142a91b1d63",
   "metadata": {},
   "source": [
    "## 3"
   ]
  },
  {
   "cell_type": "code",
   "execution_count": 39,
   "id": "37466722-ddd4-4294-b53d-6fd8b16a6453",
   "metadata": {},
   "outputs": [
    {
     "name": "stdout",
     "output_type": "stream",
     "text": [
      "['a_b']\n",
      "['e_j']\n",
      "[]\n",
      "[]\n"
     ]
    }
   ],
   "source": [
    "import re\n",
    "\n",
    "def lower_n_underscore(s):\n",
    "    pattern = r'\\b[a-z]+_[a-z]\\b'\n",
    "    x = re.findall(pattern, s)\n",
    "    return x\n",
    "    \n",
    "s_list = ['a_b', 'e_j', 'A_z', 'a_Z']\n",
    "for s in s_list: \n",
    "    print(lower_n_underscore(s))"
   ]
  },
  {
   "cell_type": "markdown",
   "id": "964608a9-32b3-4382-9d8e-e85594937413",
   "metadata": {},
   "source": [
    "## 4"
   ]
  },
  {
   "cell_type": "code",
   "execution_count": 43,
   "id": "2a360182-3eab-4053-bf42-0d54ca480a9e",
   "metadata": {},
   "outputs": [
    {
     "name": "stdout",
     "output_type": "stream",
     "text": [
      "['Ab']\n",
      "['Abb']\n",
      "[]\n",
      "[]\n"
     ]
    }
   ],
   "source": [
    "import re\n",
    "\n",
    "def upper_n_lower(s):\n",
    "    pattern = r'\\b[A-Z][a-z]+\\b'\n",
    "    x = re.findall(pattern, s)\n",
    "    return x\n",
    "\n",
    "s_list = ['Ab', 'Abb', 'AAb', 'ab']\n",
    "for s in s_list:\n",
    "    print(upper_n_lower(s))"
   ]
  },
  {
   "cell_type": "markdown",
   "id": "2de30e9a-827a-489c-8fd1-4d031ea5956b",
   "metadata": {},
   "source": [
    "## 5"
   ]
  },
  {
   "cell_type": "code",
   "execution_count": 53,
   "id": "4c8846be-31f5-49e5-8fc5-8b7b39d0af62",
   "metadata": {},
   "outputs": [
    {
     "name": "stdout",
     "output_type": "stream",
     "text": [
      "['axb']\n",
      "['a3b']\n",
      "['aab']\n",
      "[]\n",
      "[]\n"
     ]
    }
   ],
   "source": [
    "import re\n",
    "\n",
    "def match_a_end_b(s):\n",
    "    x = re.findall(r'^a.b$', s)\n",
    "    return x\n",
    "\n",
    "s_list = ['axb', 'a3b', 'aab', 'bob', 'aoob']\n",
    "for s in s_list:\n",
    "    print(match_a_end_b(s))"
   ]
  },
  {
   "cell_type": "markdown",
   "id": "3d754789-e653-48f5-8fde-efef34ab5de1",
   "metadata": {},
   "source": [
    "## 6"
   ]
  },
  {
   "cell_type": "code",
   "execution_count": 71,
   "id": "28eabd8c-c47a-4332-910c-8361923ab473",
   "metadata": {},
   "outputs": [
    {
     "name": "stdout",
     "output_type": "stream",
     "text": [
      "Hello:World::Goodbye:World:\n"
     ]
    }
   ],
   "source": [
    "import re\n",
    "\n",
    "def replace_to_colon(s):\n",
    "    x = re.sub(r'[ .,]', ':', s)\n",
    "    return x\n",
    "    \n",
    "s = 'Hello World, Goodbye World.'\n",
    "print(replace_to_colon(s))"
   ]
  },
  {
   "cell_type": "markdown",
   "id": "b9a68a1d-58bc-4845-bf38-a6f813e742bb",
   "metadata": {},
   "source": [
    "## 7"
   ]
  },
  {
   "cell_type": "code",
   "execution_count": 81,
   "id": "b5a49fa4-deca-4bc3-8b5b-ce1a6b0ba2db",
   "metadata": {},
   "outputs": [
    {
     "name": "stdout",
     "output_type": "stream",
     "text": [
      "snakeCaseString\n"
     ]
    }
   ],
   "source": [
    "import re\n",
    "\n",
    "def snake_to_camel(s):\n",
    "    x = re.sub(r'_([a-z])', lambda x: x.group(1).upper(),s)\n",
    "    return x\n",
    "\n",
    "s = 'snake_case_string'\n",
    "print(snake_to_camel(s))"
   ]
  },
  {
   "cell_type": "markdown",
   "id": "852035ac-ff59-4f20-bef9-eb5b45a5c0fa",
   "metadata": {},
   "source": [
    "## 8"
   ]
  },
  {
   "cell_type": "code",
   "execution_count": 103,
   "id": "25c91535-a41d-4b9c-b378-00f1f7f53044",
   "metadata": {},
   "outputs": [
    {
     "name": "stdout",
     "output_type": "stream",
     "text": [
      "['Hello', 'World', 'Gooodbye', 'World']\n"
     ]
    }
   ],
   "source": [
    "import re\n",
    "\n",
    "def split_at_upper(s):\n",
    "    x = re.findall(r'[A-Z][^A-Z]*', s)\n",
    "    return x\n",
    "\n",
    "s = 'HelloWorldGooodbyeWorld'\n",
    "print (split_at_upper(s))"
   ]
  },
  {
   "cell_type": "markdown",
   "id": "adbd226e-f936-48ad-999b-34e1945e0fe9",
   "metadata": {},
   "source": [
    "## 9"
   ]
  },
  {
   "cell_type": "code",
   "execution_count": 107,
   "id": "f3fdfda2-74d1-4a61-b509-ae585e0e7e98",
   "metadata": {},
   "outputs": [
    {
     "name": "stdout",
     "output_type": "stream",
     "text": [
      "Hello World Goodbye World\n"
     ]
    }
   ],
   "source": [
    "import re\n",
    "\n",
    "def insert_spaces(s):\n",
    "    x = re.sub(r'(?<!^)(?=[A-Z])', ' ', s)\n",
    "    return x\n",
    "\n",
    "s = 'HelloWorldGoodbyeWorld'\n",
    "print(insert_spaces(s))"
   ]
  },
  {
   "cell_type": "markdown",
   "id": "a694a506-1ddb-4dbd-9ef4-b0b04c10afe5",
   "metadata": {},
   "source": [
    "## 10"
   ]
  },
  {
   "cell_type": "code",
   "execution_count": 111,
   "id": "d53e297c-7a0c-454a-8605-f2e21a3d56e8",
   "metadata": {},
   "outputs": [
    {
     "name": "stdout",
     "output_type": "stream",
     "text": [
      "hello_world_goodbye_world\n"
     ]
    }
   ],
   "source": [
    "import re\n",
    "\n",
    "def camel_to_snake(txt):\n",
    "    x =  re.sub(r'(?<!^)(?=[A-Z])', '_', s).lower()\n",
    "    return x\n",
    "\n",
    "s = 'HelloWorldGoodbyeWorld'\n",
    "print(camel_to_snake(s))"
   ]
  }
 ],
 "metadata": {
  "kernelspec": {
   "display_name": "Python [conda env:base] *",
   "language": "python",
   "name": "conda-base-py"
  },
  "language_info": {
   "codemirror_mode": {
    "name": "ipython",
    "version": 3
   },
   "file_extension": ".py",
   "mimetype": "text/x-python",
   "name": "python",
   "nbconvert_exporter": "python",
   "pygments_lexer": "ipython3",
   "version": "3.12.7"
  }
 },
 "nbformat": 4,
 "nbformat_minor": 5
}
